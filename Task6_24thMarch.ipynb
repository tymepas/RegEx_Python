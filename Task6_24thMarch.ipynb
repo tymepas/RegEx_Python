{
  "nbformat": 4,
  "nbformat_minor": 0,
  "metadata": {
    "colab": {
      "name": "Task6_24thMarch.ipynb",
      "provenance": [],
      "collapsed_sections": [],
      "authorship_tag": "ABX9TyOvItun01AGzEaD3AmOJoNj",
      "include_colab_link": true
    },
    "kernelspec": {
      "name": "python3",
      "display_name": "Python 3"
    },
    "language_info": {
      "name": "python"
    }
  },
  "cells": [
    {
      "cell_type": "markdown",
      "metadata": {
        "id": "view-in-github",
        "colab_type": "text"
      },
      "source": [
        "<a href=\"https://colab.research.google.com/github/tymepas/RegEx_Python/blob/main/Task6_24thMarch.ipynb\" target=\"_parent\"><img src=\"https://colab.research.google.com/assets/colab-badge.svg\" alt=\"Open In Colab\"/></a>"
      ]
    },
    {
      "cell_type": "markdown",
      "source": [
        "Name: Garvit Mathur\n",
        "\n",
        "\n",
        "\n",
        "\n",
        "Registration ID: IIPRSS1305 "
      ],
      "metadata": {
        "id": "8es5EtFaL7cB"
      }
    },
    {
      "cell_type": "markdown",
      "source": [
        "**Apply the logic with the lambda keyword**"
      ],
      "metadata": {
        "id": "cQ38eS5VbIfM"
      }
    },
    {
      "cell_type": "code",
      "execution_count": 2,
      "metadata": {
        "id": "Qa2na7Z5bFKE",
        "colab": {
          "base_uri": "https://localhost:8080/"
        },
        "outputId": "53298267-92ac-4445-a31a-4ae966db8b05"
      },
      "outputs": [
        {
          "output_type": "stream",
          "name": "stdout",
          "text": [
            "Enter the elements: 1 3 5 7 8  6 54 565 \n",
            "\n",
            "\n",
            "Even numbers in the list:  [8, 6, 54]\n"
          ]
        }
      ],
      "source": [
        "# Ques 1:  Using the lambda functions try to find the number in the tuple which are even numbers.\n",
        "\n",
        "tup =input(\"Enter the elements: \")\n",
        "print(\"\\n\")\n",
        "list1 = tup.split()\n",
        "\n",
        "for i in range(len(list1)):\n",
        "\n",
        "  # convert each item to int type\n",
        "  list1[i] = int(list1[i])\n",
        "\n",
        "  # we can also print even no's using lambda exp.\n",
        "new_list = list(filter(lambda x: (x % 2 == 0), list1))\n",
        "\n",
        "print(\"Even numbers in the list: \", new_list)\n",
        "\n",
        "\n"
      ]
    },
    {
      "cell_type": "code",
      "source": [
        "#Q2 take a list of number and reduce the value of number by performing the multiplication\n",
        "        #(1,2,3,4,5,6)\n",
        "       # 1*2*3*4*5*6\n",
        "\n",
        "\n",
        "from functools import reduce\n",
        "num =input(\"Enter the numbers: \")\n",
        "print(\"\\n\")\n",
        "list1 = num.split()\n",
        "\n",
        "for i in range(len(list1)):\n",
        "\n",
        "  # convert each item to int type\n",
        "  list1[i] = int(list1[i])\n",
        "\n",
        "total = reduce(lambda x, y: x * y , list1)\n",
        "\n",
        "print(\"Multiplication of the list is: \" , total)"
      ],
      "metadata": {
        "colab": {
          "base_uri": "https://localhost:8080/"
        },
        "id": "FGtu9DDfMtAd",
        "outputId": "dee52b30-3d8f-45d8-a464-b4219ba32207"
      },
      "execution_count": 4,
      "outputs": [
        {
          "output_type": "stream",
          "name": "stdout",
          "text": [
            "Enter elements of a list separated by space 2 4 5\n",
            "\n",
            "\n",
            "Multiplication of a list numbers is:  40\n"
          ]
        }
      ]
    }
  ]
}