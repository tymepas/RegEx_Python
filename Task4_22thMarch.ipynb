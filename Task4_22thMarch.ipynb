{
  "nbformat": 4,
  "nbformat_minor": 0,
  "metadata": {
    "colab": {
      "name": "Task4_22thMarch.ipynb",
      "provenance": [],
      "collapsed_sections": [],
      "authorship_tag": "ABX9TyNdVaKwCKetO4ir90nQCNN5",
      "include_colab_link": true
    },
    "kernelspec": {
      "name": "python3",
      "display_name": "Python 3"
    },
    "language_info": {
      "name": "python"
    }
  },
  "cells": [
    {
      "cell_type": "markdown",
      "metadata": {
        "id": "view-in-github",
        "colab_type": "text"
      },
      "source": [
        "<a href=\"https://colab.research.google.com/github/tymepas/RegEx_Python/blob/main/Task4_22thMarch.ipynb\" target=\"_parent\"><img src=\"https://colab.research.google.com/assets/colab-badge.svg\" alt=\"Open In Colab\"/></a>"
      ]
    },
    {
      "cell_type": "markdown",
      "source": [
        "Q1 Try to create a program such that to find any string is a palindrome or not\n",
        "        \"NAMAN\"\n",
        "       \n",
        "        [Don't use the avaible method of Python or the slicing operator [::-1] ]\n",
        "\n",
        "Q2 Take a number and try to keep dividing it by second number\n",
        "        134578  ,  2\n",
        "       \n",
        "        1 0 1 1 0 **bold text**"
      ],
      "metadata": {
        "id": "hv9pfVNvMIIu"
      }
    },
    {
      "cell_type": "code",
      "execution_count": null,
      "metadata": {
        "colab": {
          "base_uri": "https://localhost:8080/"
        },
        "id": "B-zLEaw7EGiY",
        "outputId": "8dcac460-87de-4a56-dc98-c2b3a3f8b8e6"
      },
      "outputs": [
        {
          "output_type": "stream",
          "name": "stdout",
          "text": [
            "Enter Name for check palindrome: NAMAN\n",
            "NAMAN is a palindrome\n"
          ]
        }
      ],
      "source": [
        "# Ques 1: Try to create a program such that to find any string is a palindrome or not\n",
        "        # \"NAMAN\"\n",
        "       \n",
        "      #  [Don't use the avaible method of Python or the slicing operator [::-1] ]\n",
        "\n",
        "\n",
        "text = input(\"Enter Name for check palindrome: \")\n",
        "rev_text = \"\"\n",
        "\n",
        "for i in text:\n",
        "    rev_text = i + rev_text\n",
        "if text == rev_text:\n",
        "  print(text, \"is a palindrome\")\n",
        "else:\n",
        "  print(text, \"is not a palindrome\")"
      ]
    },
    {
      "cell_type": "code",
      "source": [
        "# Ques 2: Q2 Take a number and try to keep dividing it by second number\n",
        "      #  134578  ,  2\n",
        "      #   1 0 1 1 0\n",
        "\n",
        "n = int(input(\"Input number: \"))\n",
        "d= int(input(\"Second Number: \"))\n",
        "n = str(n)\n",
        "\n",
        "temp = n[0]\n",
        "result = \"\"\n",
        "for i in range(1,len(n)):\n",
        "    if int(temp) >= d:\n",
        "        #print(temp)\n",
        "        result += str(int(temp)%d)\n",
        "        temp=\"\"\n",
        "    temp += n[i]\n",
        "    \n",
        "result += str(int(temp)%d)    \n",
        "print(result)\n"
      ],
      "metadata": {
        "colab": {
          "base_uri": "https://localhost:8080/"
        },
        "id": "_H9ZaZEqEq8f",
        "outputId": "8606ba67-8080-4570-ef2d-3586e4211272"
      },
      "execution_count": 6,
      "outputs": [
        {
          "output_type": "stream",
          "name": "stdout",
          "text": [
            "Input number: 134578\n",
            "Second Number: 2\n",
            "10110\n"
          ]
        }
      ]
    }
  ]
}