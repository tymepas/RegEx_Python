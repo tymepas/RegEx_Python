{
  "nbformat": 4,
  "nbformat_minor": 0,
  "metadata": {
    "colab": {
      "name": "Task7_29thMarch.ipynb",
      "provenance": [],
      "collapsed_sections": [],
      "authorship_tag": "ABX9TyMRrsI4R1AuLSCJtNO9/bZJ",
      "include_colab_link": true
    },
    "kernelspec": {
      "name": "python3",
      "display_name": "Python 3"
    },
    "language_info": {
      "name": "python"
    }
  },
  "cells": [
    {
      "cell_type": "markdown",
      "metadata": {
        "id": "view-in-github",
        "colab_type": "text"
      },
      "source": [
        "<a href=\"https://colab.research.google.com/github/tymepas/RegEx_Python/blob/main/Task7_29thMarch.ipynb\" target=\"_parent\"><img src=\"https://colab.research.google.com/assets/colab-badge.svg\" alt=\"Open In Colab\"/></a>"
      ]
    },
    {
      "cell_type": "markdown",
      "source": [
        " Name: Garvit Mathur\n",
        "\n",
        "\n",
        "\n",
        " Registration ID: IIPRSS1305"
      ],
      "metadata": {
        "id": "slhlANImD_Nq"
      }
    },
    {
      "cell_type": "code",
      "source": [
        "# Create a program to see the pattern using python\n",
        "\n",
        "for i in range (65,70):\n",
        "    # inner loop\n",
        "    for j in range(65,i+1):\n",
        "        print(chr(i),end=\"\")\n",
        "    print()\n"
      ],
      "metadata": {
        "colab": {
          "base_uri": "https://localhost:8080/"
        },
        "id": "neyaBNPNEdfU",
        "outputId": "a50d25d8-b510-472f-8689-9678c6d5de00"
      },
      "execution_count": 3,
      "outputs": [
        {
          "output_type": "stream",
          "name": "stdout",
          "text": [
            "A\n",
            "BB\n",
            "CCC\n",
            "DDDD\n",
            "EEEEE\n"
          ]
        }
      ]
    },
    {
      "cell_type": "code",
      "source": [
        "# Create a program to convert any string into Pig Latin\n",
        "\n",
        "def pigl(string):\n",
        "  vowels = (\"a\",\"e\",\"i\",\"o\",\"u\",\"A\",\"E\",\"I\",\"O\",\"U\")\n",
        "  x = string.split()\n",
        "  for i in string.split():\n",
        "    if i[0] in vowels:\n",
        "        print(f\"The string {string} is starting with vowels and after pig Latin string is: \",i + \"yay\")\n",
        "    else:\n",
        "        print(\"None\") \n",
        "        #funtion pig latin defination\n",
        "def pigl(string):\n",
        "  vowels = (\"a\",\"e\",\"i\",\"o\",\"u\",\"A\",\"E\",\"I\",\"O\",\"U\")\n",
        "  x = string.split()\n",
        "\n",
        "  for i in string.split():\n",
        "\n",
        "    if i[0] in vowels:\n",
        "\n",
        "      #check the string has vowels or not\n",
        "        print(f\"The string {string} is starting with vowels and after pig Latin string is: \",i + \"yay\")\n",
        "        \n",
        "    else:\n",
        "        print(f\"The string {string} is starting with consonant and after pig Latin string is: \",i[1:]+i[0] + \"by\")\n",
        "\n",
        "#function calling\n",
        "n=input(\"Enter a string: \")\n",
        "pigl(n)"
      ],
      "metadata": {
        "colab": {
          "base_uri": "https://localhost:8080/"
        },
        "id": "-rnoukmdGO-9",
        "outputId": "610188ad-2591-4d3a-b31d-69e03a89793a"
      },
      "execution_count": 6,
      "outputs": [
        {
          "output_type": "stream",
          "name": "stdout",
          "text": [
            "Enter a string: REgex\n",
            "The string REgex is starting with consonant and after pig Latin string is:  EgexRby\n"
          ]
        }
      ]
    }
  ]
}