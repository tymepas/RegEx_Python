{
  "nbformat": 4,
  "nbformat_minor": 0,
  "metadata": {
    "colab": {
      "name": "Task3_10thMarch.ipynb",
      "provenance": [],
      "collapsed_sections": []
    },
    "kernelspec": {
      "name": "python3",
      "display_name": "Python 3"
    },
    "language_info": {
      "name": "python"
    }
  },
  "cells": [
    {
      "cell_type": "code",
      "source": [
        "# Task 3\n",
        "# IIPRSS1305\n",
        "# Garvit Mathur"
      ],
      "metadata": {
        "id": "h1AJ1qusDcT3"
      },
      "execution_count": null,
      "outputs": []
    },
    {
      "cell_type": "code",
      "execution_count": null,
      "metadata": {
        "id": "zVETwE0QC0cB"
      },
      "outputs": [],
      "source": [
        "'''\n",
        "You need to take a input from the user, input is the password..\n",
        "- You need to check the password or input follows the criteria as defined below:\n",
        "a) The password should be of the length in between 6 to 15 characters\n",
        "b) In password we should have atleast 1 capital alphabat (A-Z)\n",
        "c)we should have atleast 1 lowercase alphabat (a-z)\n",
        "d) Atleast there should be a single numerical number(0-9)\n",
        "e) There can be any special character ($, @, #)\n",
        "\n",
        "If the user gives the password which follows all the criteria print a message giving an output \"Password accepted\"\n",
        "- otherwise try to ask the input  maximum three time\n",
        "\n",
        "NOTE: Don't use any inbuilt packages/ module / library specially the regular expression\n",
        "'''"
      ]
    },
    {
      "cell_type": "code",
      "source": [
        "counter = 0\n",
        "while(counter < 3):     \n",
        "    password = input(\"Enter the Password: \")\n",
        "    specialCharacter = [\"$\",\"@\",\"#\"]\n",
        "    countUpper = 0\n",
        "    countLower = 0\n",
        "    countNumeric = 0\n",
        "    countSpecial = 0\n",
        "    for i in password:\n",
        "        if i.isupper():\n",
        "            countUpper += 1\n",
        "        if i.islower():\n",
        "            countLower += 1\n",
        "        if i>='0' and i<= '9':\n",
        "            countNumeric += 1\n",
        "        if i in specialCharacter:\n",
        "            countSpecial += 1\n",
        "    if(len(password)>=6 and len(password)<=15 and countUpper > 0 and countLower > 0 and countNumeric > 0 and countSpecial > 0):\n",
        "        print(\"Password accepted\")\n",
        "        break\n",
        "    counter+=1"
      ],
      "metadata": {
        "colab": {
          "base_uri": "https://localhost:8080/"
        },
        "id": "CK_ESSYiHyI-",
        "outputId": "0654f2cc-a74e-4524-947c-b1949eb12d8e"
      },
      "execution_count": 1,
      "outputs": [
        {
          "output_type": "stream",
          "name": "stdout",
          "text": [
            "Enter the Password: Garvit\n",
            "Enter the Password: Garvit@123\n",
            "Password accepted\n"
          ]
        }
      ]
    }
  ]
}